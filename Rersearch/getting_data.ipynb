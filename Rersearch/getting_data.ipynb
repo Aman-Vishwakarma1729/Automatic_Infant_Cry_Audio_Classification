{
 "cells": [
  {
   "cell_type": "code",
   "execution_count": 61,
   "metadata": {},
   "outputs": [],
   "source": [
    "import os\n",
    "import wave"
   ]
  },
  {
   "cell_type": "code",
   "execution_count": 69,
   "metadata": {},
   "outputs": [],
   "source": [
    "current_working_directory= os.getcwd()\n",
    "main_directory = os.path.dirname(current_working_directory)\n",
    "category_data_folder_path = os.path.join(main_directory,\"getting_data\")\n",
    "audio_input_folder_path = os.path.join(category_data_folder_path,\"others\")\n",
    "audio_output_folder_path = os.path.join(category_data_folder_path,\"_others\")"
   ]
  },
  {
   "cell_type": "code",
   "execution_count": 70,
   "metadata": {},
   "outputs": [
    {
     "name": "stdout",
     "output_type": "stream",
     "text": [
      "1 7.0\n",
      "2 6.68\n",
      "3 6.66\n",
      "4 6.52\n",
      "5 7.0\n",
      "6 7.0\n",
      "7 7.0\n",
      "8 7.0\n",
      "9 7.0\n",
      "10 7.0\n",
      "11 7.0\n",
      "12 7.0\n",
      "13 7.0\n",
      "14 6.66\n",
      "15 7.0\n",
      "16 6.66\n",
      "17 6.68\n",
      "18 7.0\n",
      "19 7.0\n",
      "20 7.0\n",
      "21 7.0\n",
      "22 7.0\n",
      "23 7.0\n",
      "24 7.0\n",
      "25 7.0\n",
      "26 6.9\n",
      "27 7.0\n",
      "28 7.0\n",
      "29 6.96\n",
      "30 6.9\n",
      "31 6.9\n",
      "32 6.9\n",
      "33 6.9\n",
      "34 6.9\n",
      "35 6.96\n",
      "36 6.9\n",
      "37 7.0\n",
      "38 6.54\n",
      "39 7.0\n",
      "40 7.0\n",
      "41 6.92\n",
      "42 7.0\n",
      "43 7.0\n",
      "44 7.0\n",
      "45 6.78\n",
      "46 6.94\n",
      "47 7.0\n",
      "48 7.0\n",
      "49 6.88\n",
      "50 6.82\n",
      "51 6.84\n",
      "52 6.84\n",
      "53 6.82\n",
      "54 6.82\n",
      "55 6.84\n",
      "56 6.92\n",
      "57 7.0\n",
      "58 6.66\n",
      "59 7.06\n"
     ]
    }
   ],
   "source": [
    "file_num = 1\n",
    "for audio_file in os.listdir(audio_input_folder_path):\n",
    "    path = os.path.join(audio_input_folder_path,audio_file)\n",
    "    with wave.open(path, \"rb\") as audio_file:\n",
    "        frames = audio_file.getnframes()\n",
    "        rate = audio_file.getframerate()\n",
    "        duration = frames / float(rate)\n",
    "        print(file_num,duration)\n",
    "        file_num = file_num + 1"
   ]
  },
  {
   "cell_type": "code",
   "execution_count": 66,
   "metadata": {},
   "outputs": [],
   "source": [
    "def breaking_audio_data(audio_input_folder_path,audio_output_folder_path):\n",
    "    file_num = 1\n",
    "    for audio_file in os.listdir(audio_input_folder_path):\n",
    "        path = os.path.join(audio_input_folder_path,audio_file)\n",
    "        with wave.open(path, \"rb\") as audio_file:\n",
    "            frames = audio_file.getnframes()\n",
    "            rate = audio_file.getframerate()\n",
    "            duration = frames / float(rate)\n",
    "            print(file_num,duration)\n",
    "            num_parts = int(input(\"Enter the number of parts\"))\n",
    "            frame_per_part = int(frames / num_parts)\n",
    "            for i in range(num_parts):\n",
    "                start_frame = i * frame_per_part\n",
    "                end_frame = min((i + 1) * frame_per_part, frames) \n",
    "                part = audio_file.readframes(end_frame - start_frame)\n",
    "                output_file = wave.open(os.path.join(audio_output_folder_path, f\"{file_num}_part_{i+1}.wav\"), \"wb\")\n",
    "                output_file.setnchannels(audio_file.getnchannels())\n",
    "                output_file.setsampwidth(audio_file.getsampwidth())\n",
    "                output_file.setframerate(rate)\n",
    "                output_file.writeframes(part)\n",
    "                output_file.close()\n",
    "        file_num = file_num+1"
   ]
  },
  {
   "cell_type": "code",
   "execution_count": 68,
   "metadata": {},
   "outputs": [
    {
     "name": "stdout",
     "output_type": "stream",
     "text": [
      "1 33.07392290249433\n",
      "2 38.1875\n",
      "3 20.3125\n",
      "4 8.1875\n",
      "5 32.8125\n",
      "6 21.3125\n",
      "7 18.75\n",
      "8 20.6875\n",
      "9 21.77886621315193\n",
      "10 19.9375\n",
      "11 19.875\n",
      "12 49.5625\n",
      "13 17.4375\n",
      "14 28.125\n",
      "15 23.0625\n",
      "16 29.375\n",
      "17 23.0625\n",
      "18 37.875\n",
      "19 30.627120181405896\n",
      "20 21.147573696145123\n",
      "21 10.263219954648527\n"
     ]
    }
   ],
   "source": [
    "breaking_audio_data(audio_input_folder_path,audio_output_folder_path)"
   ]
  },
  {
   "cell_type": "code",
   "execution_count": null,
   "metadata": {},
   "outputs": [],
   "source": []
  },
  {
   "cell_type": "code",
   "execution_count": null,
   "metadata": {},
   "outputs": [],
   "source": []
  },
  {
   "cell_type": "code",
   "execution_count": null,
   "metadata": {},
   "outputs": [],
   "source": []
  },
  {
   "cell_type": "code",
   "execution_count": null,
   "metadata": {},
   "outputs": [],
   "source": []
  },
  {
   "cell_type": "code",
   "execution_count": null,
   "metadata": {},
   "outputs": [],
   "source": []
  },
  {
   "cell_type": "code",
   "execution_count": null,
   "metadata": {},
   "outputs": [],
   "source": []
  },
  {
   "cell_type": "code",
   "execution_count": null,
   "metadata": {},
   "outputs": [],
   "source": []
  },
  {
   "cell_type": "code",
   "execution_count": null,
   "metadata": {},
   "outputs": [],
   "source": []
  },
  {
   "cell_type": "code",
   "execution_count": null,
   "metadata": {},
   "outputs": [],
   "source": []
  },
  {
   "cell_type": "code",
   "execution_count": null,
   "metadata": {},
   "outputs": [],
   "source": []
  },
  {
   "cell_type": "code",
   "execution_count": null,
   "metadata": {},
   "outputs": [],
   "source": []
  },
  {
   "cell_type": "code",
   "execution_count": null,
   "metadata": {},
   "outputs": [],
   "source": []
  },
  {
   "cell_type": "code",
   "execution_count": null,
   "metadata": {},
   "outputs": [],
   "source": []
  },
  {
   "cell_type": "code",
   "execution_count": null,
   "metadata": {},
   "outputs": [],
   "source": []
  },
  {
   "cell_type": "code",
   "execution_count": null,
   "metadata": {},
   "outputs": [],
   "source": []
  },
  {
   "cell_type": "code",
   "execution_count": null,
   "metadata": {},
   "outputs": [],
   "source": []
  },
  {
   "cell_type": "code",
   "execution_count": null,
   "metadata": {},
   "outputs": [],
   "source": []
  },
  {
   "cell_type": "code",
   "execution_count": 1,
   "metadata": {},
   "outputs": [],
   "source": []
  }
 ],
 "metadata": {
  "kernelspec": {
   "display_name": "Python 3",
   "language": "python",
   "name": "python3"
  },
  "language_info": {
   "codemirror_mode": {
    "name": "ipython",
    "version": 3
   },
   "file_extension": ".py",
   "mimetype": "text/x-python",
   "name": "python",
   "nbconvert_exporter": "python",
   "pygments_lexer": "ipython3",
   "version": "3.11.0"
  }
 },
 "nbformat": 4,
 "nbformat_minor": 2
}
