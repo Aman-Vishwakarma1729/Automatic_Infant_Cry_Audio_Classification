{
 "cells": [
  {
   "cell_type": "code",
   "execution_count": 1,
   "metadata": {},
   "outputs": [],
   "source": [
    "import os\n",
    "import wave"
   ]
  },
  {
   "cell_type": "code",
   "execution_count": 4,
   "metadata": {},
   "outputs": [],
   "source": [
    "current_working_directory= os.getcwd()\n",
    "main_directory = os.path.dirname(current_working_directory)\n",
    "category_data_folder_path = os.path.join(main_directory,\"getting_data\")\n",
    "audio_input_folder_path = os.path.join(category_data_folder_path,\"Full_hunger\")\n",
    "audio_output_folder_path = os.path.join(category_data_folder_path,\"hunger\")"
   ]
  },
  {
   "cell_type": "code",
   "execution_count": 5,
   "metadata": {},
   "outputs": [
    {
     "name": "stdout",
     "output_type": "stream",
     "text": [
      "1 6.000544217687075\n",
      "2 5.750375\n",
      "3 6.17265306122449\n",
      "4 5.010294784580499\n",
      "5 7.194920634920635\n",
      "6 7.373786848072562\n",
      "7 7.5403628117913835\n",
      "8 10.929115646258504\n",
      "9 13.37725\n",
      "10 12.6425\n",
      "11 9.791\n",
      "12 9.0055\n",
      "13 8.884125\n",
      "14 12.907375\n",
      "15 9.320875\n",
      "16 7.02325\n",
      "17 18.226625\n",
      "18 16.10375\n",
      "19 9.974125\n",
      "20 8.47175\n",
      "21 10.6985\n",
      "22 17.182125\n",
      "23 9.089125\n",
      "24 5.219\n",
      "25 3.680453514739229\n",
      "26 9.184625\n",
      "27 17.911020408163264\n",
      "28 13.432743764172336\n",
      "29 12.631655328798185\n",
      "30 9.775600907029478\n",
      "31 11.075918367346938\n",
      "32 14.79111111111111\n",
      "33 26.377868480725624\n",
      "34 12.329795918367347\n"
     ]
    }
   ],
   "source": [
    "file_num = 1\n",
    "for audio_file in os.listdir(audio_input_folder_path):\n",
    "    path = os.path.join(audio_input_folder_path,audio_file)\n",
    "    with wave.open(path, \"rb\") as audio_file:\n",
    "        frames = audio_file.getnframes()\n",
    "        rate = audio_file.getframerate()\n",
    "        duration = frames / float(rate)\n",
    "        print(file_num,duration)\n",
    "        file_num = file_num + 1"
   ]
  },
  {
   "cell_type": "code",
   "execution_count": 6,
   "metadata": {},
   "outputs": [],
   "source": [
    "def breaking_audio_data(audio_input_folder_path,audio_output_folder_path):\n",
    "    file_num = 1\n",
    "    for audio_file in os.listdir(audio_input_folder_path):\n",
    "        path = os.path.join(audio_input_folder_path,audio_file)\n",
    "        with wave.open(path, \"rb\") as audio_file:\n",
    "            frames = audio_file.getnframes()\n",
    "            rate = audio_file.getframerate()\n",
    "            duration = frames / float(rate)\n",
    "            print(file_num,duration)\n",
    "            num_parts = int(input(\"Enter the number of parts\"))\n",
    "            frame_per_part = int(frames / num_parts)\n",
    "            for i in range(num_parts):\n",
    "                start_frame = i * frame_per_part\n",
    "                end_frame = min((i + 1) * frame_per_part, frames) \n",
    "                part = audio_file.readframes(end_frame - start_frame)\n",
    "                output_file = wave.open(os.path.join(audio_output_folder_path, f\"{file_num}_part_{i+1}.wav\"), \"wb\")\n",
    "                output_file.setnchannels(audio_file.getnchannels())\n",
    "                output_file.setsampwidth(audio_file.getsampwidth())\n",
    "                output_file.setframerate(rate)\n",
    "                output_file.writeframes(part)\n",
    "                output_file.close()\n",
    "        file_num = file_num+1"
   ]
  },
  {
   "cell_type": "code",
   "execution_count": 7,
   "metadata": {},
   "outputs": [
    {
     "name": "stdout",
     "output_type": "stream",
     "text": [
      "1 6.000544217687075\n",
      "2 5.750375\n",
      "3 6.17265306122449\n",
      "4 5.010294784580499\n",
      "5 7.194920634920635\n",
      "6 7.373786848072562\n",
      "7 7.5403628117913835\n",
      "8 10.929115646258504\n",
      "9 13.37725\n",
      "10 12.6425\n",
      "11 9.791\n",
      "12 9.0055\n",
      "13 8.884125\n",
      "14 12.907375\n",
      "15 9.320875\n",
      "16 7.02325\n",
      "17 18.226625\n",
      "18 16.10375\n",
      "19 9.974125\n",
      "20 8.47175\n",
      "21 10.6985\n",
      "22 17.182125\n",
      "23 9.089125\n",
      "24 5.219\n",
      "25 3.680453514739229\n",
      "26 9.184625\n",
      "27 17.911020408163264\n",
      "28 13.432743764172336\n",
      "29 12.631655328798185\n",
      "30 9.775600907029478\n",
      "31 11.075918367346938\n",
      "32 14.79111111111111\n",
      "33 26.377868480725624\n",
      "34 12.329795918367347\n"
     ]
    }
   ],
   "source": [
    "breaking_audio_data(audio_input_folder_path,audio_output_folder_path)"
   ]
  },
  {
   "cell_type": "code",
   "execution_count": null,
   "metadata": {},
   "outputs": [],
   "source": []
  },
  {
   "cell_type": "code",
   "execution_count": null,
   "metadata": {},
   "outputs": [],
   "source": []
  },
  {
   "cell_type": "code",
   "execution_count": null,
   "metadata": {},
   "outputs": [],
   "source": []
  },
  {
   "cell_type": "code",
   "execution_count": null,
   "metadata": {},
   "outputs": [],
   "source": []
  },
  {
   "cell_type": "code",
   "execution_count": null,
   "metadata": {},
   "outputs": [],
   "source": []
  },
  {
   "cell_type": "code",
   "execution_count": null,
   "metadata": {},
   "outputs": [],
   "source": []
  },
  {
   "cell_type": "code",
   "execution_count": null,
   "metadata": {},
   "outputs": [],
   "source": []
  },
  {
   "cell_type": "code",
   "execution_count": null,
   "metadata": {},
   "outputs": [],
   "source": []
  },
  {
   "cell_type": "code",
   "execution_count": null,
   "metadata": {},
   "outputs": [],
   "source": []
  },
  {
   "cell_type": "code",
   "execution_count": null,
   "metadata": {},
   "outputs": [],
   "source": []
  },
  {
   "cell_type": "code",
   "execution_count": null,
   "metadata": {},
   "outputs": [],
   "source": []
  },
  {
   "cell_type": "code",
   "execution_count": null,
   "metadata": {},
   "outputs": [],
   "source": []
  },
  {
   "cell_type": "code",
   "execution_count": null,
   "metadata": {},
   "outputs": [],
   "source": []
  },
  {
   "cell_type": "code",
   "execution_count": null,
   "metadata": {},
   "outputs": [],
   "source": []
  },
  {
   "cell_type": "code",
   "execution_count": null,
   "metadata": {},
   "outputs": [],
   "source": []
  },
  {
   "cell_type": "code",
   "execution_count": null,
   "metadata": {},
   "outputs": [],
   "source": []
  },
  {
   "cell_type": "code",
   "execution_count": null,
   "metadata": {},
   "outputs": [],
   "source": []
  },
  {
   "cell_type": "code",
   "execution_count": 1,
   "metadata": {},
   "outputs": [],
   "source": []
  }
 ],
 "metadata": {
  "kernelspec": {
   "display_name": "Python 3",
   "language": "python",
   "name": "python3"
  },
  "language_info": {
   "codemirror_mode": {
    "name": "ipython",
    "version": 3
   },
   "file_extension": ".py",
   "mimetype": "text/x-python",
   "name": "python",
   "nbconvert_exporter": "python",
   "pygments_lexer": "ipython3",
   "version": "3.11.0"
  }
 },
 "nbformat": 4,
 "nbformat_minor": 2
}
